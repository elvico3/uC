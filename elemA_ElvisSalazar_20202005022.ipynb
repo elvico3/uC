{
  "nbformat": 4,
  "nbformat_minor": 0,
  "metadata": {
    "colab": {
      "provenance": []
    },
    "kernelspec": {
      "name": "python3",
      "display_name": "Python 3"
    },
    "language_info": {
      "name": "python"
    }
  },
  "cells": [
    {
      "cell_type": "markdown",
      "source": [
        "\n",
        "# <font face=\"Times New Roman\">UNIVERSIDAD DISTRITAL FRANCISCO JOSÉ DE CALDAS</font>  \n",
        "## <font face=\"Times New Roman\">Elvis Salazar Méndez 20202005022</font>  \n",
        "### <font face=\"Times New Roman\">DISEÑO DIGITAL CON MICROCONTROLADORES</font>  \n",
        "### <font face=\"Times New Roman\">Docente: GERARDO ALCIDES MUÑOZ QUIÑONES</font>\n",
        "\n"
      ],
      "metadata": {
        "id": "Hup59zC7Gnij"
      }
    },
    {
      "cell_type": "code",
      "source": [
        "from sympy import *\n"
      ],
      "metadata": {
        "id": "Jq1rS9H3BG3F"
      },
      "execution_count": 2,
      "outputs": []
    },
    {
      "cell_type": "code",
      "source": [
        "from array import array\n",
        "import copy\n",
        "\n",
        "def elem(A, i, j):\n",
        "    # Verificar si i y j están en el rango adecuado\n",
        "    if i < 0 or i >= 3 or j < 0 or j >= 3:\n",
        "        return \"Índices fuera de rango\"\n",
        "    # Calcular el índice correspondiente en la lista plana A\n",
        "    index = i * 3 + j\n",
        "    # Retornar el elemento en la posición calculada\n",
        "    return A[index]\n",
        "\n",
        "def intercambiar_filas(A, fila1, fila2):\n",
        "    # Verificar si las filas están dentro del rango válido\n",
        "    if fila1 < 0 or fila1 >= 3 or fila2 < 0 or fila2 >= 3:\n",
        "        return \"Índices de fila fuera de rango\"\n",
        "    # Calcular los índices correspondientes en la lista plana A\n",
        "    inicio_fila1 = fila1 * 3\n",
        "    inicio_fila2 = fila2 * 3\n",
        "    # Intercambiar los elementos de las filas\n",
        "    for i in range(3):\n",
        "        A[inicio_fila1 + i], A[inicio_fila2 + i] = A[inicio_fila2 + i], A[inicio_fila1 + i]\n",
        "\n",
        "\n",
        "def multiplicar_fila_por_numero(A, fila, numero):\n",
        "    # Verificar si la fila está dentro del rango válido\n",
        "    if fila < 0 or fila >= 3:\n",
        "        return \"Índice de fila fuera de rango\"\n",
        "    # Calcular el índice correspondiente en la lista plana A\n",
        "    inicio_fila = fila * 3\n",
        "    # Multiplicar cada elemento de la fila por el número dado\n",
        "    for i in range(3):\n",
        "        A[inicio_fila + i] *= numero\n",
        "\n",
        "def sumar_filas_y_reemplazar(A, fila_destino, fila_origen1, fila_origen2):\n",
        "    # Verificar si las filas están dentro del rango válido\n",
        "    if fila_destino < 0 or fila_destino >= 3 or fila_origen1 < 0 or fila_origen1 >= 3 or fila_origen2 < 0 or fila_origen2 >= 3:\n",
        "        return \"Índices de fila fuera de rango\"\n",
        "\n",
        "    # Calcular los índices correspondientes en la lista plana A\n",
        "    inicio_destino = fila_destino * 3\n",
        "    inicio_origen1 = fila_origen1 * 3\n",
        "    inicio_origen2 = fila_origen2 * 3\n",
        "\n",
        "    # Sumar los elementos de las filas origen y asignar el resultado a la fila destino\n",
        "    for i in range(3):\n",
        "        A[inicio_destino + i] = A[inicio_origen1 + i] + A[inicio_origen2 + i]\n",
        "\n",
        "\n",
        "\n",
        "# Definir el array A\n",
        "A_original = array('f', [1.0, 2, 3.14,\n",
        "                10, 13.1, 4.5,\n",
        "                2.0, 7.5, 6.2])\n",
        "\n",
        "# Crear una copia de la matriz original\n",
        "A_intercambiada = copy.copy(A_original)\n",
        "A_Multiplicada = copy.copy(A_original)\n",
        "A_suma_reemplazo = copy.copy(A_original)\n",
        "\n",
        "# Ejemplo de uso\n",
        "print(\"Matriz original:\")\n",
        "print(A_original)\n",
        "\n",
        "# Intercambiar las filas 0 y 2 en la copia\n",
        "intercambiar_filas(A_intercambiada, 0, 1)\n",
        "\n",
        "print(\"\\nMatriz con filas intercambiadas:\")\n",
        "print(A_intercambiada)\n",
        "\n",
        "\n",
        "# Multiplicar la fila 1 por 2.5 en la copia\n",
        "multiplicar_fila_por_numero(A_Multiplicada, 1, 2.5)\n",
        "\n",
        "print(\"\\nMatriz con fila multiplicada por 2.5:\")\n",
        "print(A_Multiplicada)\n",
        "\n",
        "# Sumar la fila 0 y la fila 1 y reemplazar la fila 2 con el resultado\n",
        "sumar_filas_y_reemplazar(A_suma_reemplazo, 2, 0, 1)\n",
        "\n",
        "print(\"\\nMatriz con fila 2 reemplazada por la suma de fila 0 y fila 1:\")\n",
        "print(A_suma_reemplazo)"
      ],
      "metadata": {
        "colab": {
          "base_uri": "https://localhost:8080/"
        },
        "id": "n-lJ4uNBBOLN",
        "outputId": "3300e4c1-8c24-45fa-bcde-acf1d035ed91"
      },
      "execution_count": 4,
      "outputs": [
        {
          "output_type": "stream",
          "name": "stdout",
          "text": [
            "Matriz original:\n",
            "array('f', [1.0, 2.0, 3.140000104904175, 10.0, 13.100000381469727, 4.5, 2.0, 7.5, 6.199999809265137])\n",
            "\n",
            "Matriz con filas intercambiadas:\n",
            "array('f', [10.0, 13.100000381469727, 4.5, 1.0, 2.0, 3.140000104904175, 2.0, 7.5, 6.199999809265137])\n",
            "\n",
            "Matriz con fila multiplicada por 2.5:\n",
            "array('f', [1.0, 2.0, 3.140000104904175, 25.0, 32.75, 11.25, 2.0, 7.5, 6.199999809265137])\n",
            "\n",
            "Matriz con fila 2 reemplazada por la suma de fila 0 y fila 1:\n",
            "array('f', [1.0, 2.0, 3.140000104904175, 10.0, 13.100000381469727, 4.5, 11.0, 15.100000381469727, 7.640000343322754])\n"
          ]
        }
      ]
    },
    {
      "cell_type": "markdown",
      "source": [
        "## **Ejemplo de Manipulación de Matrices**\n",
        "\n",
        "\n",
        "En este ejemplo, se muestran diferentes operaciones que se pueden realizar en una matriz utilizando Python. Cada operación se ejecuta sobre una copia de la matriz original para preservar la matriz original sin cambios.\n",
        "\n",
        "1. **Intercambio de Filas:**\n",
        "\n",
        "   Primero, se intercambian las filas 0 y 1 de la matriz. Esto se logra utilizando la función `intercambiar_filas`, que toma la matriz y los índices de las filas a intercambiar como argumentos. Posteriormente, se imprime la matriz resultante.\n",
        "\n",
        "2. **Multiplicación de Fila por un Número:**\n",
        "\n",
        "   Luego, se multiplica la fila 1 de la matriz por 2.5. Esto se realiza utilizando la función `multiplicar_fila_por_numero`, que toma la matriz, el índice de la fila y el número por el cual multiplicar como argumentos. Después de la operación, se muestra la matriz resultante.\n",
        "\n",
        "3. **Suma de Filas y Reemplazo:**\n",
        "\n",
        "   Finalmente, se suman las filas 0 y 1 y se reemplaza la fila 2 con el resultado de la suma. Esta operación se lleva a cabo con la función `sumar_filas_y_reemplazar`, que toma la matriz, el índice de la fila destino y los índices de las filas a sumar como argumentos. Después de la operación, se imprime la matriz resultante.\n",
        "\n"
      ],
      "metadata": {
        "id": "nmcGBkRXIfE_"
      }
    },
    {
      "cell_type": "markdown",
      "source": [
        "##**Demostracion con Sympy**\n",
        "\n",
        "Para demostrar que lo anterior concuerda, crearemos la misma matriz usando la libreria de sympy y haremos los mismos cambios demostrando que esta correcto."
      ],
      "metadata": {
        "id": "3gaJHBCPKiO4"
      }
    },
    {
      "cell_type": "code",
      "source": [
        "M"
      ],
      "metadata": {
        "colab": {
          "base_uri": "https://localhost:8080/",
          "height": 78
        },
        "id": "H8Tzb2BTLmL6",
        "outputId": "f5a47647-42e7-4def-957b-8b9716755023"
      },
      "execution_count": 38,
      "outputs": [
        {
          "output_type": "execute_result",
          "data": {
            "text/plain": [
              "Matrix([\n",
              "[1.0,  2.0, 3.14],\n",
              "[ 10, 13.1,  4.5],\n",
              "[2.0,  7.5,  6.2]])"
            ],
            "text/latex": "$\\displaystyle \\left[\\begin{matrix}1.0 & 2.0 & 3.14\\\\10 & 13.1 & 4.5\\\\2.0 & 7.5 & 6.2\\end{matrix}\\right]$"
          },
          "metadata": {},
          "execution_count": 38
        }
      ]
    },
    {
      "cell_type": "code",
      "source": [
        "import copy\n",
        "from sympy import Matrix\n",
        "\n",
        "# Definir la matriz original\n",
        "M = Matrix([[1.0, 2.0, 3.14], [10, 13.1, 4.5], [2.0, 7.5, 6.2]])\n",
        "\n",
        "# Hacer una copia profunda de M\n",
        "M_original = copy.deepcopy(M)\n",
        "\n",
        "# Imprimir la matriz original\n",
        "print(\"\\nMatriz original:\")\n",
        "print(M_original)\n",
        "print(\"\")\n",
        "\n",
        "# Intercambiar filas 0 y 1\n",
        "M_intercambiada = M.copy()\n",
        "M_intercambiada.row_swap(0, 1)\n",
        "\n",
        "# Imprimir la matriz intercambiada\n",
        "print(\"Matriz intercambiada:\")\n",
        "print(M_intercambiada)\n",
        "\n",
        "# Multiplicar la fila 1 por 2.5\n",
        "M_multiplicada = M_original.copy()  # Utiliza la copia profunda de M original\n",
        "M_multiplicada[1, :] *= 2.5\n",
        "\n",
        "# Imprimir la matriz multiplicada\n",
        "print(\"\\nMatriz multiplicada:\")\n",
        "print(M_multiplicada)\n",
        "\n",
        "\n",
        "\n",
        "# Sumar las filas 0 y 1 y reemplazar la fila 2 con el resultado\n",
        "M_suma = M_original.copy()  # Utiliza la copia profunda de M original\n",
        "suma_filas_01 = M_suma.row(0) + M_suma.row(1)\n",
        "M_suma.row_del(2)\n",
        "M_suma = M_suma.row_insert(2, suma_filas_01)\n",
        "\n",
        "# Imprimir la matriz con la fila 2 reemplazada por la suma de las filas 0 y 1\n",
        "print(\"\\nMatriz con la fila 2 reemplazada por la suma de las filas 0 y 1:\")\n",
        "print(M_suma)\n",
        "\n",
        "\n",
        "\n"
      ],
      "metadata": {
        "colab": {
          "base_uri": "https://localhost:8080/"
        },
        "id": "lr7-wc80L8VU",
        "outputId": "ef1efb5e-bd4b-420a-d657-263942a6f901"
      },
      "execution_count": 44,
      "outputs": [
        {
          "output_type": "stream",
          "name": "stdout",
          "text": [
            "\n",
            "Matriz original:\n",
            "Matrix([[1.00000000000000, 2.00000000000000, 3.14000000000000], [10, 13.1000000000000, 4.50000000000000], [2.00000000000000, 7.50000000000000, 6.20000000000000]])\n",
            "\n",
            "Matriz intercambiada:\n",
            "Matrix([[10, 13.1000000000000, 4.50000000000000], [1.00000000000000, 2.00000000000000, 3.14000000000000], [2.00000000000000, 7.50000000000000, 6.20000000000000]])\n",
            "\n",
            "Matriz multiplicada:\n",
            "Matrix([[1.00000000000000, 2.00000000000000, 3.14000000000000], [25.0000000000000, 32.7500000000000, 11.2500000000000], [2.00000000000000, 7.50000000000000, 6.20000000000000]])\n",
            "\n",
            "Matriz con la fila 2 reemplazada por la suma de las filas 0 y 1:\n",
            "Matrix([[1.00000000000000, 2.00000000000000, 3.14000000000000], [10, 13.1000000000000, 4.50000000000000], [11.0000000000000, 15.1000000000000, 7.64000000000000]])\n"
          ]
        }
      ]
    },
    {
      "cell_type": "markdown",
      "source": [
        "Como podemos ver, este resultado corresponde al obtenido usando las funciones creadas `intercambiar_filas`, `multiplicar_fila_por_numero` y `sumar_filas_y_reemplazar`."
      ],
      "metadata": {
        "id": "B7JtD_LHMwMq"
      }
    }
  ]
}